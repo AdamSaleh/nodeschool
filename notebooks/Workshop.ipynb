{
 "cells": [
  {
   "cell_type": "markdown",
   "metadata": {
    "deletable": true,
    "editable": true,
    "slideshow": {
     "slide_type": "slide"
    }
   },
   "source": [
    "# Node JS Workshop\n",
    "## by RedHat Mobile QE\n",
    "### presented by asaleh@redhat.com\n",
    "### assisted by omatskiv@redhat and psturc@redhat"
   ]
  },
  {
   "cell_type": "markdown",
   "metadata": {
    "deletable": true,
    "editable": true,
    "slideshow": {
     "slide_type": "slide"
    }
   },
   "source": [
    "# Warning: this is a work in progress\n",
    "\n",
    "* we aim to present this in its final form as a course at local universities\n",
    "* thank you for helping us test this\n",
    "* comments welcome :-)\n"
   ]
  },
  {
   "cell_type": "markdown",
   "metadata": {
    "deletable": true,
    "editable": true,
    "slideshow": {
     "slide_type": "slide"
    }
   },
   "source": [
    "# Goal of this workshop\n",
    "* setup your development environment\n",
    "* show how to write sane JS despite its warts\n",
    "* to show off some nice features in modern JS\n",
    "* to show the npm package ecosystem \n",
    "* by the end you should be able to write a simple web-service :-)"
   ]
  },
  {
   "cell_type": "markdown",
   "metadata": {
    "slideshow": {
     "slide_type": "slide"
    }
   },
   "source": [
    "# Development setup\n",
    "* setting up Node version manager\n",
    "* creating a project skeleton\n",
    "* setting up Visual Studio Code (if you want to do debugging)"
   ]
  },
  {
   "cell_type": "markdown",
   "metadata": {
    "slideshow": {
     "slide_type": "subslide"
    }
   },
   "source": [
    "# Node version manager\n",
    "\n",
    "First run the install script as your regular user\n",
    "\n",
    "```\n",
    "curl -o- https://raw.githubusercontent.com/creationix/nvm/v0.33.1/install.sh | bash\n",
    "```\n",
    "\n",
    "Then load nvm in your shell\n",
    "\n",
    "```\n",
    "export NVM_DIR=\"$HOME/.nvm\"\n",
    "[ -s \"$NVM_DIR/nvm.sh\" ] && . \"$NVM_DIR/nvm.sh\" # This loads nvm\n",
    "```\n",
    "\n",
    "It is advisable to add this to your i.e. bashrc"
   ]
  },
  {
   "cell_type": "markdown",
   "metadata": {
    "slideshow": {
     "slide_type": "subslide"
    }
   },
   "source": [
    "# Node version manager removal\n",
    "\n",
    "First unload nvm from your shell\n",
    "\n",
    "```\n",
    "nvm unload\n",
    "```\n",
    "\n",
    "Then remove the `$NVM_DIR` dir, i.e. `~/.nvm`.\n",
    "\n",
    "Don't forget to remove automatic sourcing from your i.e. bashrc"
   ]
  },
  {
   "cell_type": "markdown",
   "metadata": {
    "slideshow": {
     "slide_type": "subslide"
    }
   },
   "source": [
    "# Install node 7.7.4\n",
    "\n",
    "```\n",
    "nvm install 7.7.4\n",
    "node -v\n",
    "> v7.7.4\n",
    "```\n",
    "Beware, this is not a [LTS release](https://github.com/nodejs/LTS), and will be superseded by v8.x this April."
   ]
  },
  {
   "cell_type": "markdown",
   "metadata": {
    "slideshow": {
     "slide_type": "subslide"
    }
   },
   "source": [
    "# Overview of node support\n",
    "![Node Support](https://github.com/nodejs/LTS/raw/master/schedule.png)"
   ]
  },
  {
   "cell_type": "markdown",
   "metadata": {
    "slideshow": {
     "slide_type": "subslide"
    }
   },
   "source": [
    "# Hello Node.js!\n",
    "\n",
    "```\n",
    "echo \"console.log('Hello Node.js!');\" > hello.js\n",
    "node hello.js\n",
    "> Hello Node.js!\n",
    "```"
   ]
  },
  {
   "cell_type": "markdown",
   "metadata": {
    "slideshow": {
     "slide_type": "subslide"
    }
   },
   "source": [
    "# Setup a project\n",
    "\n",
    "```\n",
    "mkdir node-project\n",
    "cd node-project\n",
    "npm init -y\n",
    "```\n",
    "will create package.json in the directory.\n",
    "Lets create the entry-point as well.\n",
    "```\n",
    "echo \"console.log('Hello');\\nconsole.log('World');\\n\" > index.js\n",
    "```"
   ]
  },
  {
   "cell_type": "markdown",
   "metadata": {
    "slideshow": {
     "slide_type": "subslide"
    }
   },
   "source": [
    "# package.json\n",
    "\n",
    "Currently empty, usually hosts the list of dependencies.\n",
    "\n",
    "```\n",
    "{\n",
    "  \"name\": \"node-project\",\n",
    "  \"version\": \"1.0.0\",\n",
    "  \"main\": \"index.js\",\n",
    "  \"scripts\": {\n",
    "    \"test\": \"echo \\\"Error: no test specified\\\" && exit 1\"\n",
    "  },\n",
    "  \"author\": \"\",\n",
    "  \"license\": \"ISC\",\n",
    "  \"keywords\": [],\n",
    "  \"description\": \"\"\n",
    "}\n",
    "```"
   ]
  },
  {
   "cell_type": "markdown",
   "metadata": {
    "slideshow": {
     "slide_type": "subslide"
    }
   },
   "source": [
    "# Install Visual Studio Code\n",
    "\n",
    "We have chose this ide because\n",
    "* it is user friendly\n",
    "* has good set of easily configurable plugins available for writing JS\n",
    "* **DEBUGGER**\n",
    "\n",
    "If you really don't want this, you should in theory be fine with running node scripts from command-line :-)\n",
    "### https://code.visualstudio.com/download"
   ]
  },
  {
   "cell_type": "markdown",
   "metadata": {
    "slideshow": {
     "slide_type": "subslide"
    }
   },
   "source": [
    "# Configure for debugging\n",
    "* Open in the project folder i.e.: `code .`\n",
    "* Click the debug button\n",
    "* Click the little gear icon to populate your vscode configuration\n",
    "* Set a breakpoint somewhere (F9)\n",
    "* Run (F5)\n",
    "* Step over the lines (F6)\n",
    "* Stop the program (Shift-F5)\n",
    "\n",
    "![Debugging](https://code.visualstudio.com/images/debugging_dimmed-callstack.png)"
   ]
  },
  {
   "cell_type": "markdown",
   "metadata": {
    "collapsed": false,
    "deletable": true,
    "editable": true,
    "slideshow": {
     "slide_type": "slide"
    }
   },
   "source": [
    "# The WHAT?? of Javascript \n",
    "* Many of you saw the wonderfull [WAT](https://www.destroyallsoftware.com/talks/wat) talk about many weird javascript *features*\n",
    "* this is a short re-hash :)"
   ]
  },
  {
   "cell_type": "code",
   "execution_count": null,
   "metadata": {
    "collapsed": false,
    "slideshow": {
     "slide_type": "fragment"
    }
   },
   "outputs": [],
   "source": [
    "process.version"
   ]
  },
  {
   "cell_type": "code",
   "execution_count": null,
   "metadata": {
    "collapsed": false,
    "deletable": true,
    "editable": true,
    "slideshow": {
     "slide_type": "subslide"
    }
   },
   "outputs": [],
   "source": [
    "[] + []"
   ]
  },
  {
   "cell_type": "code",
   "execution_count": null,
   "metadata": {
    "collapsed": false,
    "deletable": true,
    "editable": true,
    "slideshow": {
     "slide_type": "fragment"
    }
   },
   "outputs": [],
   "source": [
    "[] + {}"
   ]
  },
  {
   "cell_type": "code",
   "execution_count": null,
   "metadata": {
    "collapsed": false,
    "deletable": true,
    "editable": true,
    "slideshow": {
     "slide_type": "fragment"
    }
   },
   "outputs": [],
   "source": [
    "{} + []"
   ]
  },
  {
   "cell_type": "code",
   "execution_count": null,
   "metadata": {
    "collapsed": false,
    "deletable": true,
    "editable": true,
    "slideshow": {
     "slide_type": "fragment"
    }
   },
   "outputs": [],
   "source": [
    "{} + {}"
   ]
  },
  {
   "cell_type": "code",
   "execution_count": null,
   "metadata": {
    "collapsed": false,
    "deletable": true,
    "editable": true,
    "slideshow": {
     "slide_type": "subslide"
    }
   },
   "outputs": [],
   "source": [
    "'' + 0.5"
   ]
  },
  {
   "cell_type": "code",
   "execution_count": null,
   "metadata": {
    "collapsed": false,
    "deletable": true,
    "editable": true,
    "slideshow": {
     "slide_type": "fragment"
    }
   },
   "outputs": [],
   "source": [
    "'' - 1"
   ]
  },
  {
   "cell_type": "code",
   "execution_count": null,
   "metadata": {
    "collapsed": false,
    "deletable": true,
    "editable": true,
    "slideshow": {
     "slide_type": "fragment"
    }
   },
   "outputs": [],
   "source": [
    "\"wat\" - 1"
   ]
  },
  {
   "cell_type": "code",
   "execution_count": null,
   "metadata": {
    "collapsed": false,
    "slideshow": {
     "slide_type": "subslide"
    }
   },
   "outputs": [],
   "source": [
    "let c = {}\n",
    "\n",
    "c[{'some': 'data'}] = \"a\"\n",
    "c[{'different': 'thing'}] = \"b\"\n",
    "c"
   ]
  },
  {
   "cell_type": "code",
   "execution_count": 1,
   "metadata": {
    "collapsed": false
   },
   "outputs": [
    {
     "data": {
      "text/plain": [
       "10"
      ]
     },
     "execution_count": 1,
     "metadata": {},
     "output_type": "execute_result"
    }
   ],
   "source": [
    "var funcs = [];\n",
    "for (var j = 0; j < 10; j++) {\n",
    "  funcs[j] = function () {\n",
    "    return j;\n",
    "  };\n",
    "}\n",
    "funcs[0]()"
   ]
  },
  {
   "cell_type": "code",
   "execution_count": 2,
   "metadata": {
    "collapsed": false
   },
   "outputs": [
    {
     "data": {
      "text/plain": [
       "0"
      ]
     },
     "execution_count": 2,
     "metadata": {},
     "output_type": "execute_result"
    }
   ],
   "source": [
    "var funcs = [];\n",
    "for (let j = 0; j < 10; j++) {\n",
    "  funcs[j] = function () {\n",
    "    return j;\n",
    "  };\n",
    "}\n",
    "funcs[0]()"
   ]
  },
  {
   "cell_type": "markdown",
   "metadata": {
    "slideshow": {
     "slide_type": "subslide"
    }
   },
   "source": [
    "# And this is why we use lint\n",
    "\n",
    "```\n",
    "npm install -g semistandard\n",
    "semistandard\n",
    "```\n",
    "* opinionated ESLint configuration\n",
    "* in reality you will roll your own ;-)\n",
    "* i.e. eslint-config-standard-strict or even eslint-plugin-fp"
   ]
  },
  {
   "cell_type": "markdown",
   "metadata": {
    "slideshow": {
     "slide_type": "subslide"
    }
   },
   "source": [
    "## PS: in VS Code enable vscode-semistandard"
   ]
  },
  {
   "cell_type": "markdown",
   "metadata": {
    "slideshow": {
     "slide_type": "slide"
    }
   },
   "source": [
    "# The project\n",
    "* We've got some User records in a JSON file:\n",
    " * https://gist.github.com/jasonmadigan/009c15b5dc4b4eccd32b\n",
    "* Using the above dataset, design a persistent RESTful API with basic CRUDL operations implemented."
   ]
  },
  {
   "cell_type": "markdown",
   "metadata": {
    "slideshow": {
     "slide_type": "subslide"
    }
   },
   "source": [
    "# We need\n",
    "* Reading files\n",
    "* Parsing JSON\n",
    "* Running a server\n",
    "  * Receiving files\n",
    "  * Sending files"
   ]
  },
  {
   "cell_type": "markdown",
   "metadata": {
    "slideshow": {
     "slide_type": "subslide"
    }
   },
   "source": [
    "# Reading files"
   ]
  },
  {
   "cell_type": "code",
   "execution_count": 5,
   "metadata": {
    "collapsed": false,
    "slideshow": {
     "slide_type": "fragment"
    }
   },
   "outputs": [
    {
     "data": {
      "text/plain": [
       "undefined"
      ]
     },
     "execution_count": 5,
     "metadata": {},
     "output_type": "execute_result"
    }
   ],
   "source": [
    "let fs = require('fs');"
   ]
  },
  {
   "cell_type": "code",
   "execution_count": 9,
   "metadata": {
    "collapsed": false,
    "slideshow": {
     "slide_type": "fragment"
    }
   },
   "outputs": [
    {
     "data": {
      "text/plain": [
       "undefined"
      ]
     },
     "execution_count": 9,
     "metadata": {},
     "output_type": "execute_result"
    }
   ],
   "source": [
    "function readUsers(file,cb){\n",
    "    fs.readFile(file, 'utf8', (err,data) => {\n",
    "      if (err) {\n",
    "        return cb(err);\n",
    "      }\n",
    "      try {\n",
    "        const users = JSON.parse(data)\n",
    "        return cb(null,users)\n",
    "      } catch (exc){\n",
    "          return cb(exc)\n",
    "      }\n",
    "    });\n",
    "}"
   ]
  },
  {
   "cell_type": "code",
   "execution_count": 13,
   "metadata": {
    "collapsed": false,
    "slideshow": {
     "slide_type": "fragment"
    }
   },
   "outputs": [
    {
     "data": {
      "text/plain": [
       "undefined"
      ]
     },
     "execution_count": 13,
     "metadata": {},
     "output_type": "execute_result"
    }
   ],
   "source": [
    "function printer(err,result) {\n",
    "    if (err) {\n",
    "       return console.log(err)\n",
    "    }\n",
    "    console.log(result)\n",
    "}"
   ]
  },
  {
   "cell_type": "code",
   "execution_count": 16,
   "metadata": {
    "collapsed": false,
    "slideshow": {
     "slide_type": "fragment"
    }
   },
   "outputs": [
    {
     "data": {
      "text/plain": [
       "undefined"
      ]
     },
     "execution_count": 16,
     "metadata": {},
     "output_type": "execute_result"
    },
    {
     "name": "stdout",
     "output_type": "stream",
     "text": [
      "SyntaxError: Unexpected token # in JSON at position 0\n",
      "    at JSON.parse (<anonymous>)\n",
      "    at fs.readFile (evalmachine.<anonymous>:7:28)\n",
      "    at tryToString (fs.js:449:3)\n",
      "    at FSReqWrap.readFileAfterClose [as oncomplete] (fs.js:436:12)\n"
     ]
    }
   ],
   "source": [
    "readUsers('./README.md',printer)"
   ]
  },
  {
   "cell_type": "markdown",
   "metadata": {
    "slideshow": {
     "slide_type": "slide"
    }
   },
   "source": []
  },
  {
   "cell_type": "code",
   "execution_count": 3,
   "metadata": {
    "collapsed": false,
    "deletable": true,
    "editable": true,
    "slideshow": {
     "slide_type": "slide"
    }
   },
   "outputs": [
    {
     "data": {
      "text/plain": [
       "Promise { <pending> }"
      ]
     },
     "execution_count": 3,
     "metadata": {},
     "output_type": "execute_result"
    },
    {
     "name": "stdout",
     "output_type": "stream",
     "text": [
      "70\n",
      "130\n",
      "140\n",
      "210\n",
      "260\n",
      "280\n",
      "350\n",
      "390\n",
      "520\n",
      "650\n"
     ]
    }
   ],
   "source": [
    "function wait(ms) {\n",
    "  return new Promise(resolve => setTimeout(() => resolve(), ms));\n",
    "}\n",
    "\n",
    "async function test(ms) {\n",
    "  for (let i = 0; i < 5; ++i) {\n",
    "    await wait(ms);\n",
    "    console.log(ms * (i + 1));\n",
    "  }\n",
    "}\n",
    "\n",
    "test(70);\n",
    "test(130);"
   ]
  }
 ],
 "metadata": {
  "celltoolbar": "Slideshow",
  "kernelspec": {
   "display_name": "Javascript (Node.js)",
   "language": "javascript",
   "name": "javascript"
  },
  "language_info": {
   "file_extension": ".js",
   "mimetype": "application/javascript",
   "name": "javascript",
   "version": "7.7.4"
  }
 },
 "nbformat": 4,
 "nbformat_minor": 2
}
