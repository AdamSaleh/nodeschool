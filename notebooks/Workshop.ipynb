{
 "cells": [
  {
   "cell_type": "markdown",
   "metadata": {
    "deletable": true,
    "editable": true,
    "slideshow": {
     "slide_type": "slide"
    }
   },
   "source": [
    "# Node JS Workshop\n",
    "## by RedHat Mobile QE\n",
    "### presented by asaleh@redhat.com\n",
    "### assisted by omatskiv@redhat and psturc@redhat"
   ]
  },
  {
   "cell_type": "markdown",
   "metadata": {
    "deletable": true,
    "editable": true,
    "slideshow": {
     "slide_type": "slide"
    }
   },
   "source": [
    "# Warning: this is a work in progress\n",
    "\n",
    "* we aim to present this in its final form as a course at local universities\n",
    "* thank you for helping us test this\n",
    "* comments welcome :-)\n"
   ]
  },
  {
   "cell_type": "markdown",
   "metadata": {
    "deletable": true,
    "editable": true,
    "slideshow": {
     "slide_type": "slide"
    }
   },
   "source": [
    "# Goal of this workshop\n",
    "* setup your development environment\n",
    "* show how to write sane JS despite its warts\n",
    "* to show off some nice features in modern JS\n",
    "* to show the npm package ecosystem \n",
    "* by the end you should be able to write a simple web-service :-)"
   ]
  },
  {
   "cell_type": "markdown",
   "metadata": {
    "deletable": true,
    "editable": true,
    "slideshow": {
     "slide_type": "slide"
    }
   },
   "source": [
    "# Development setup\n",
    "* setting up Node version manager\n",
    "* creating a project skeleton\n",
    "* setting up Visual Studio Code (if you want to do debugging)"
   ]
  },
  {
   "cell_type": "markdown",
   "metadata": {
    "deletable": true,
    "editable": true,
    "slideshow": {
     "slide_type": "subslide"
    }
   },
   "source": [
    "# Node version manager\n",
    "\n",
    "First run the install script as your regular user\n",
    "\n",
    "```\n",
    "curl -o- https://raw.githubusercontent.com/creationix/nvm/v0.33.1/install.sh | bash\n",
    "```\n",
    "\n",
    "Then load nvm in your shell\n",
    "\n",
    "```\n",
    "export NVM_DIR=\"$HOME/.nvm\"\n",
    "[ -s \"$NVM_DIR/nvm.sh\" ] && . \"$NVM_DIR/nvm.sh\" # This loads nvm\n",
    "```\n",
    "\n",
    "It is advisable to add this to your i.e. bashrc"
   ]
  },
  {
   "cell_type": "markdown",
   "metadata": {
    "deletable": true,
    "editable": true,
    "slideshow": {
     "slide_type": "subslide"
    }
   },
   "source": [
    "# Node version manager removal\n",
    "\n",
    "First unload nvm from your shell\n",
    "\n",
    "```\n",
    "nvm unload\n",
    "```\n",
    "\n",
    "Then remove the `$NVM_DIR` dir, i.e. `~/.nvm`.\n",
    "\n",
    "Don't forget to remove automatic sourcing from your i.e. bashrc"
   ]
  },
  {
   "cell_type": "markdown",
   "metadata": {
    "deletable": true,
    "editable": true,
    "slideshow": {
     "slide_type": "subslide"
    }
   },
   "source": [
    "# Install node 7.7.4\n",
    "\n",
    "```\n",
    "nvm install 7.7.4\n",
    "node -v\n",
    "> v7.7.4\n",
    "```\n",
    "Beware, this is not a [LTS release](https://github.com/nodejs/LTS), and will be superseded by v8.x this April."
   ]
  },
  {
   "cell_type": "markdown",
   "metadata": {
    "deletable": true,
    "editable": true,
    "slideshow": {
     "slide_type": "subslide"
    }
   },
   "source": [
    "# Overview of node support\n",
    "![Node Support](https://github.com/nodejs/LTS/raw/master/schedule.png)"
   ]
  },
  {
   "cell_type": "markdown",
   "metadata": {
    "deletable": true,
    "editable": true,
    "slideshow": {
     "slide_type": "subslide"
    }
   },
   "source": [
    "# Hello Node.js!\n",
    "\n",
    "```\n",
    "echo \"console.log('Hello Node.js!');\" > hello.js\n",
    "node hello.js\n",
    "> Hello Node.js!\n",
    "```"
   ]
  },
  {
   "cell_type": "markdown",
   "metadata": {
    "deletable": true,
    "editable": true,
    "slideshow": {
     "slide_type": "subslide"
    }
   },
   "source": [
    "# Setup a project\n",
    "\n",
    "```\n",
    "mkdir node-project\n",
    "cd node-project\n",
    "npm init -y\n",
    "```\n",
    "will create package.json in the directory.\n",
    "Lets create the entry-point as well.\n",
    "```\n",
    "echo \"console.log('Hello');\\nconsole.log('World');\\n\" > index.js\n",
    "```"
   ]
  },
  {
   "cell_type": "markdown",
   "metadata": {
    "deletable": true,
    "editable": true,
    "slideshow": {
     "slide_type": "subslide"
    }
   },
   "source": [
    "# package.json\n",
    "\n",
    "Currently empty, usually hosts the list of dependencies.\n",
    "\n",
    "```\n",
    "{\n",
    "  \"name\": \"node-project\",\n",
    "  \"version\": \"1.0.0\",\n",
    "  \"main\": \"index.js\",\n",
    "  \"scripts\": {\n",
    "    \"test\": \"echo \\\"Error: no test specified\\\" && exit 1\"\n",
    "  },\n",
    "  \"author\": \"\",\n",
    "  \"license\": \"ISC\",\n",
    "  \"keywords\": [],\n",
    "  \"description\": \"\"\n",
    "}\n",
    "```"
   ]
  },
  {
   "cell_type": "markdown",
   "metadata": {
    "deletable": true,
    "editable": true,
    "slideshow": {
     "slide_type": "subslide"
    }
   },
   "source": [
    "# Install Visual Studio Code\n",
    "\n",
    "We have chose this ide because\n",
    "* it is user friendly\n",
    "* has good set of easily configurable plugins available for writing JS\n",
    "* **DEBUGGER**\n",
    "\n",
    "If you really don't want this, you should in theory be fine with running node scripts from command-line :-)\n",
    "### https://code.visualstudio.com/download"
   ]
  },
  {
   "cell_type": "markdown",
   "metadata": {
    "deletable": true,
    "editable": true,
    "slideshow": {
     "slide_type": "subslide"
    }
   },
   "source": [
    "# Configure for debugging\n",
    "* Open in the project folder i.e.: `code .`\n",
    "* Click the debug button\n",
    "* Click the little gear icon to populate your vscode configuration\n",
    "* Set a breakpoint somewhere (F9)\n",
    "* Run (F5)\n",
    "* Step over the lines (F6)\n",
    "* Stop the program (Shift-F5)\n",
    "\n",
    "![Debugging](https://code.visualstudio.com/images/debugging_dimmed-callstack.png)"
   ]
  },
  {
   "cell_type": "markdown",
   "metadata": {
    "deletable": true,
    "editable": true,
    "slideshow": {
     "slide_type": "slide"
    }
   },
   "source": [
    "# The Good Parts of Javascript\n",
    "\n",
    "* I.M.O. a decent functional language\n",
    "  * anonymous functions, closures, good set of data-types\n",
    "  * extensible\n",
    "* stealing rest from [Douglas Crockford](https://www.slideshare.net/rajivmordani/good-parts-of-javascript-douglas-crockford-presentation)\n"
   ]
  },
  {
   "cell_type": "markdown",
   "metadata": {
    "deletable": true,
    "editable": true,
    "slideshow": {
     "slide_type": "subslide"
    }
   },
   "source": [
    "## Javascript is familiar"
   ]
  },
  {
   "cell_type": "code",
   "execution_count": null,
   "metadata": {
    "collapsed": false,
    "deletable": true,
    "editable": true
   },
   "outputs": [],
   "source": [
    "class Rectangle {\n",
    "  constructor(height, width) {\n",
    "    this.height = height;\n",
    "    this.width = width;\n",
    "  }\n",
    "  area () {\n",
    "      return this.width * this.height;\n",
    "  }\n",
    "}\n",
    "const rectangle = new Rectangle(20, 10);\n",
    "rectangle.area()"
   ]
  },
  {
   "cell_type": "code",
   "execution_count": null,
   "metadata": {
    "collapsed": false,
    "deletable": true,
    "editable": true
   },
   "outputs": [],
   "source": [
    "class Square extends Rectangle {\n",
    "    constructor(side) {\n",
    "        super(side,side)\n",
    "    }\n",
    "}\n",
    "const square = new Square(20);\n",
    "square.area()"
   ]
  },
  {
   "cell_type": "markdown",
   "metadata": {
    "deletable": true,
    "editable": true,
    "slideshow": {
     "slide_type": "subslide"
    }
   },
   "source": [
    "## Concise syntax for nested datastructures"
   ]
  },
  {
   "cell_type": "code",
   "execution_count": null,
   "metadata": {
    "collapsed": false,
    "deletable": true,
    "editable": true
   },
   "outputs": [],
   "source": [
    "const data = {\n",
    "    labels: [\"test\",\"staging\"],\n",
    "    configuration: {\n",
    "        optional: true,\n",
    "        paths: [{path:\"./data\", recursive:true},\"./*\"]\n",
    "    }\n",
    "}\n",
    "data.configuration.paths[0].path"
   ]
  },
  {
   "cell_type": "markdown",
   "metadata": {
    "deletable": true,
    "editable": true,
    "slideshow": {
     "slide_type": "subslide"
    }
   },
   "source": [
    "## Higher order functions"
   ]
  },
  {
   "cell_type": "code",
   "execution_count": null,
   "metadata": {
    "collapsed": false,
    "deletable": true,
    "editable": true,
    "slideshow": {
     "slide_type": "-"
    }
   },
   "outputs": [],
   "source": [
    "function add(a, b){\n",
    "    return a + b;\n",
    "}\n",
    "[1,2,3,4].reduce(add)"
   ]
  },
  {
   "cell_type": "code",
   "execution_count": null,
   "metadata": {
    "collapsed": false,
    "deletable": true,
    "editable": true
   },
   "outputs": [],
   "source": [
    "[1,2,3].map(x => x * 2)"
   ]
  },
  {
   "cell_type": "markdown",
   "metadata": {
    "deletable": true,
    "editable": true,
    "slideshow": {
     "slide_type": "subslide"
    }
   },
   "source": [
    "## Scope closure\n",
    "* good for anonymous functions\n",
    "* creating pseudo-objects :)"
   ]
  },
  {
   "cell_type": "code",
   "execution_count": null,
   "metadata": {
    "collapsed": false,
    "deletable": true,
    "editable": true
   },
   "outputs": [],
   "source": [
    "function onlyGreater(n,arr){\n",
    "    return arr.filter(x => x > n)\n",
    "}\n",
    "onlyGreater(5,[1,7,2,5,8,3,6,4])"
   ]
  },
  {
   "cell_type": "code",
   "execution_count": null,
   "metadata": {
    "collapsed": false,
    "deletable": true,
    "editable": true
   },
   "outputs": [],
   "source": [
    "function getCounter() {\n",
    "    let i = 0;\n",
    "    return function () {\n",
    "        i++;\n",
    "        return i\n",
    "    }\n",
    "}\n",
    "const c = getCounter()"
   ]
  },
  {
   "cell_type": "code",
   "execution_count": null,
   "metadata": {
    "collapsed": false,
    "deletable": true,
    "editable": true
   },
   "outputs": [],
   "source": [
    "c()"
   ]
  },
  {
   "cell_type": "markdown",
   "metadata": {
    "deletable": true,
    "editable": true,
    "slideshow": {
     "slide_type": "subslide"
    }
   },
   "source": [
    "## Function hoisting"
   ]
  },
  {
   "cell_type": "code",
   "execution_count": null,
   "metadata": {
    "collapsed": false,
    "deletable": true,
    "editable": true
   },
   "outputs": [],
   "source": [
    "function main() {\n",
    "    return below();\n",
    "}\n",
    "\n",
    "function below(){\n",
    "    return 5;\n",
    "}\n",
    "\n",
    "main()"
   ]
  },
  {
   "cell_type": "markdown",
   "metadata": {
    "collapsed": false,
    "deletable": true,
    "editable": true,
    "slideshow": {
     "slide_type": "slide"
    }
   },
   "source": [
    "# The WHAT?? of Javascript \n",
    "* Many of you saw the wonderfull [WAT](https://www.destroyallsoftware.com/talks/wat) talk about many weird javascript *features*\n",
    "* this is a short re-hash :)"
   ]
  },
  {
   "cell_type": "code",
   "execution_count": null,
   "metadata": {
    "collapsed": false,
    "deletable": true,
    "editable": true,
    "slideshow": {
     "slide_type": "-"
    }
   },
   "outputs": [],
   "source": [
    "process.version"
   ]
  },
  {
   "cell_type": "markdown",
   "metadata": {
    "deletable": true,
    "editable": true,
    "slideshow": {
     "slide_type": "subslide"
    }
   },
   "source": [
    "# Conversions and arithmetic and string concat"
   ]
  },
  {
   "cell_type": "code",
   "execution_count": null,
   "metadata": {
    "collapsed": false,
    "deletable": true,
    "editable": true,
    "slideshow": {
     "slide_type": "-"
    }
   },
   "outputs": [],
   "source": [
    "[] + []"
   ]
  },
  {
   "cell_type": "code",
   "execution_count": null,
   "metadata": {
    "collapsed": false,
    "deletable": true,
    "editable": true,
    "slideshow": {
     "slide_type": "-"
    }
   },
   "outputs": [],
   "source": [
    "[] + {}"
   ]
  },
  {
   "cell_type": "code",
   "execution_count": null,
   "metadata": {
    "collapsed": false,
    "deletable": true,
    "editable": true,
    "slideshow": {
     "slide_type": "-"
    }
   },
   "outputs": [],
   "source": [
    "{} + []"
   ]
  },
  {
   "cell_type": "code",
   "execution_count": null,
   "metadata": {
    "collapsed": false,
    "deletable": true,
    "editable": true,
    "slideshow": {
     "slide_type": "-"
    }
   },
   "outputs": [],
   "source": [
    "{} + {}"
   ]
  },
  {
   "cell_type": "code",
   "execution_count": null,
   "metadata": {
    "collapsed": false,
    "deletable": true,
    "editable": true,
    "slideshow": {
     "slide_type": "subslide"
    }
   },
   "outputs": [],
   "source": [
    "'' + 0.5"
   ]
  },
  {
   "cell_type": "code",
   "execution_count": null,
   "metadata": {
    "collapsed": false,
    "deletable": true,
    "editable": true,
    "slideshow": {
     "slide_type": "-"
    }
   },
   "outputs": [],
   "source": [
    "'' - 1"
   ]
  },
  {
   "cell_type": "code",
   "execution_count": null,
   "metadata": {
    "collapsed": false,
    "deletable": true,
    "editable": true,
    "slideshow": {
     "slide_type": "-"
    }
   },
   "outputs": [],
   "source": [
    "'wat' - 1"
   ]
  },
  {
   "cell_type": "markdown",
   "metadata": {
    "deletable": true,
    "editable": true,
    "slideshow": {
     "slide_type": "subslide"
    }
   },
   "source": [
    "## Conversions and equality"
   ]
  },
  {
   "cell_type": "code",
   "execution_count": null,
   "metadata": {
    "collapsed": false,
    "deletable": true,
    "editable": true
   },
   "outputs": [],
   "source": [
    "'' == 0"
   ]
  },
  {
   "cell_type": "code",
   "execution_count": null,
   "metadata": {
    "collapsed": false,
    "deletable": true,
    "editable": true
   },
   "outputs": [],
   "source": [
    "0 == '0'"
   ]
  },
  {
   "cell_type": "code",
   "execution_count": null,
   "metadata": {
    "collapsed": false,
    "deletable": true,
    "editable": true,
    "slideshow": {
     "slide_type": "-"
    }
   },
   "outputs": [],
   "source": [
    "'' == '0'"
   ]
  },
  {
   "cell_type": "markdown",
   "metadata": {
    "deletable": true,
    "editable": true,
    "slideshow": {
     "slide_type": "subslide"
    }
   },
   "source": [
    "## Arithmetic in floats and unprecise"
   ]
  },
  {
   "cell_type": "code",
   "execution_count": null,
   "metadata": {
    "collapsed": false,
    "deletable": true,
    "editable": true,
    "slideshow": {
     "slide_type": "-"
    }
   },
   "outputs": [],
   "source": [
    "0.1 + 0.2 == 0.3"
   ]
  },
  {
   "cell_type": "markdown",
   "metadata": {
    "deletable": true,
    "editable": true,
    "slideshow": {
     "slide_type": "subslide"
    }
   },
   "source": [
    "## Semicolon insertion"
   ]
  },
  {
   "cell_type": "code",
   "execution_count": null,
   "metadata": {
    "collapsed": false,
    "deletable": true,
    "editable": true
   },
   "outputs": [],
   "source": [
    "function good() {\n",
    "    return {\n",
    "        ok: true\n",
    "    }\n",
    "}\n",
    "good()"
   ]
  },
  {
   "cell_type": "code",
   "execution_count": null,
   "metadata": {
    "collapsed": false,
    "deletable": true,
    "editable": true
   },
   "outputs": [],
   "source": [
    "function bad() {\n",
    "    return\n",
    "    {\n",
    "        ok: true\n",
    "    }\n",
    "}\n",
    "bad()"
   ]
  },
  {
   "cell_type": "markdown",
   "metadata": {
    "deletable": true,
    "editable": true,
    "slideshow": {
     "slide_type": "subslide"
    }
   },
   "source": [
    "## String conversion"
   ]
  },
  {
   "cell_type": "code",
   "execution_count": null,
   "metadata": {
    "collapsed": false,
    "deletable": true,
    "editable": true,
    "slideshow": {
     "slide_type": "-"
    }
   },
   "outputs": [],
   "source": [
    "let c = {}\n",
    "\n",
    "c[{'some': 'data'}] = \"a\"\n",
    "c[{'different': 'thing'}] = \"b\"\n",
    "c"
   ]
  },
  {
   "cell_type": "markdown",
   "metadata": {
    "deletable": true,
    "editable": true,
    "slideshow": {
     "slide_type": "subslide"
    }
   },
   "source": [
    "## Variable hoisting"
   ]
  },
  {
   "cell_type": "code",
   "execution_count": null,
   "metadata": {
    "collapsed": false,
    "deletable": true,
    "editable": true
   },
   "outputs": [],
   "source": [
    "function bad() {\n",
    "    const funcs = [];\n",
    "    for (var j = 0; j < 10; j++) {\n",
    "      funcs[j] = function () {\n",
    "        return j;\n",
    "      };\n",
    "    }\n",
    "    return funcs.map(x => x())\n",
    "}\n",
    "bad()"
   ]
  },
  {
   "cell_type": "markdown",
   "metadata": {
    "deletable": true,
    "editable": true
   },
   "source": [
    "# Solution to the problem"
   ]
  },
  {
   "cell_type": "code",
   "execution_count": null,
   "metadata": {
    "collapsed": false,
    "deletable": true,
    "editable": true
   },
   "outputs": [],
   "source": [
    "function good() {\n",
    "    const funcs = [];\n",
    "    for (let j = 0; j < 10; j++) {\n",
    "      funcs[j] = function () {\n",
    "        return j;\n",
    "      };\n",
    "    }\n",
    "    return funcs.map(x => x())\n",
    "}\n",
    "good()"
   ]
  },
  {
   "cell_type": "markdown",
   "metadata": {
    "deletable": true,
    "editable": true,
    "slideshow": {
     "slide_type": "subslide"
    }
   },
   "source": [
    "# And this is why we use lint\n",
    "\n",
    "```\n",
    "npm install -g semistandard\n",
    "semistandard\n",
    "```\n",
    "* opinionated ESLint configuration\n",
    "* in reality you will roll your own ;-)\n",
    "* i.e. eslint-config-standard-strict or even eslint-plugin-fp"
   ]
  },
  {
   "cell_type": "markdown",
   "metadata": {
    "deletable": true,
    "editable": true,
    "slideshow": {
     "slide_type": "subslide"
    }
   },
   "source": [
    "## PS: in VS Code enable vscode-semistandard"
   ]
  },
  {
   "cell_type": "markdown",
   "metadata": {
    "deletable": true,
    "editable": true,
    "slideshow": {
     "slide_type": "slide"
    }
   },
   "source": [
    "# The project\n",
    "* We've got some User records in a JSON file:\n",
    " * https://gist.github.com/jasonmadigan/009c15b5dc4b4eccd32b\n",
    "* Using the above dataset, design a persistent RESTful API with basic CRUDL operations implemented.\n",
    "```\n",
    "mkdir seed\n",
    "curl https://gist.githubusercontent.com/jasonmadigan/009c15b5dc4b4eccd32b/raw/34759c44e77d2f3515e20ed561cdd7a5e8345585/users.json > seed/users.json\n",
    "```"
   ]
  },
  {
   "cell_type": "markdown",
   "metadata": {
    "deletable": true,
    "editable": true,
    "slideshow": {
     "slide_type": "subslide"
    }
   },
   "source": [
    "# We need\n",
    "* Reading files\n",
    "* Parsing JSON\n",
    "* Running a server\n",
    "  * Receiving files\n",
    "  * Sending files"
   ]
  },
  {
   "cell_type": "markdown",
   "metadata": {
    "deletable": true,
    "editable": true,
    "slideshow": {
     "slide_type": "subslide"
    }
   },
   "source": [
    "## Logging function\n",
    "Most of nodejs functions are used in form:\n",
    "```\n",
    "   fn(args,cb);\n",
    "```\n",
    "Where `cb` is a functions accepting error and result:\n",
    "```\n",
    "cb = (err, result) => {if (err) panic...}\n",
    "```"
   ]
  },
  {
   "cell_type": "code",
   "execution_count": null,
   "metadata": {
    "collapsed": false,
    "deletable": true,
    "editable": true,
    "slideshow": {
     "slide_type": "-"
    }
   },
   "outputs": [],
   "source": [
    "function printer(err,result) {\n",
    "    if (err) {\n",
    "       return console.log(err)\n",
    "    }\n",
    "    console.log(result)\n",
    "}"
   ]
  },
  {
   "cell_type": "markdown",
   "metadata": {
    "deletable": true,
    "editable": true,
    "slideshow": {
     "slide_type": "subslide"
    }
   },
   "source": [
    "# Reading files"
   ]
  },
  {
   "cell_type": "code",
   "execution_count": null,
   "metadata": {
    "collapsed": false,
    "deletable": true,
    "editable": true,
    "slideshow": {
     "slide_type": "fragment"
    }
   },
   "outputs": [],
   "source": [
    "let fs = require('fs');"
   ]
  },
  {
   "cell_type": "code",
   "execution_count": null,
   "metadata": {
    "collapsed": false,
    "deletable": true,
    "editable": true,
    "slideshow": {
     "slide_type": "fragment"
    }
   },
   "outputs": [],
   "source": [
    "function readUsers(file,cb){\n",
    "    fs.readFile(file, 'utf8', (err,data) => {\n",
    "      if (err) {\n",
    "        return cb(err);\n",
    "      }\n",
    "      try {\n",
    "        const users = JSON.parse(data)\n",
    "        return cb(null,users)\n",
    "      } catch (exc){\n",
    "          return cb(exc)\n",
    "      }\n",
    "    });\n",
    "}"
   ]
  },
  {
   "cell_type": "code",
   "execution_count": null,
   "metadata": {
    "collapsed": false,
    "deletable": true,
    "editable": true,
    "slideshow": {
     "slide_type": "fragment"
    }
   },
   "outputs": [],
   "source": [
    "readUsers('./README.md',printer)"
   ]
  },
  {
   "cell_type": "code",
   "execution_count": null,
   "metadata": {
    "collapsed": false,
    "deletable": true,
    "editable": true
   },
   "outputs": [],
   "source": [
    "readUsers('./seed/users.json',printer)"
   ]
  },
  {
   "cell_type": "markdown",
   "metadata": {
    "deletable": true,
    "editable": true,
    "slideshow": {
     "slide_type": "subslide"
    }
   },
   "source": [
    "# Or we could use streams."
   ]
  },
  {
   "cell_type": "code",
   "execution_count": null,
   "metadata": {
    "collapsed": true,
    "deletable": true,
    "editable": true
   },
   "outputs": [],
   "source": [
    "function streamUsers(file, cb){\n",
    "    const fstream = fs.createReadStream(file);\n",
    "    const chunks = []\n",
    "    fstream.on('err', e => cb(e));\n",
    "    fstream.on('data', d => chunks.push(d));\n",
    "    fstream.on('end', () => {\n",
    "        const data = Buffer.concat(chunks)\n",
    "        try {\n",
    "            const users = JSON.parse(data)\n",
    "            return cb(null,users)\n",
    "        } catch (exc){\n",
    "            return cb(exc)\n",
    "        }\n",
    "       \n",
    "    });\n",
    "}"
   ]
  },
  {
   "cell_type": "markdown",
   "metadata": {
    "deletable": true,
    "editable": true,
    "slideshow": {
     "slide_type": "subslide"
    }
   },
   "source": [
    "## Streams don't fit here, I just wanted to show the api\n",
    "* Streams are cool\n",
    "  * Operate on chunks, meaning thhey are usually more effective\n",
    "  * You can have transform streams and you even have `pipe`\n",
    "  ```\n",
    "  fs.createReadStream('file.txt').pipe(zip-stream).pipe(fs.createWriteStream)\n",
    "  ```\n",
    "  * error handling can be tricky :-/\n",
    "* With cb(err,result), streams and events we have covered most of the nodejs api :)\n",
    "* Rest is [in the nodejs api-docs](https://nodejs.org/dist/latest-v7.x/docs/api/) ;)"
   ]
  },
  {
   "cell_type": "markdown",
   "metadata": {
    "deletable": true,
    "editable": true,
    "slideshow": {
     "slide_type": "subslide"
    }
   },
   "source": [
    "## Web server"
   ]
  },
  {
   "cell_type": "code",
   "execution_count": null,
   "metadata": {
    "collapsed": false,
    "deletable": true,
    "editable": true
   },
   "outputs": [],
   "source": [
    "const http = require('http');\n",
    "\n",
    "const hostname = '127.0.0.1';\n",
    "const port = 3000;\n",
    "\n",
    "const server = http.createServer((req, res) => {\n",
    "  res.statusCode = 200;\n",
    "  res.setHeader('Content-Type', 'text/plain');\n",
    "  res.end('Hello World\\n');\n",
    "});\n",
    "\n",
    "server.listen(port, hostname, () => {\n",
    "  console.log(`Server running at http://${hostname}:${port}/`);\n",
    "});"
   ]
  },
  {
   "cell_type": "markdown",
   "metadata": {
    "slideshow": {
     "slide_type": "subslide"
    }
   },
   "source": [
    "## Web server to list users"
   ]
  },
  {
   "cell_type": "code",
   "execution_count": 1,
   "metadata": {
    "collapsed": false,
    "deletable": true,
    "editable": true
   },
   "outputs": [
    {
     "ename": "ReferenceError",
     "evalue": "readUsers is not defined",
     "output_type": "error",
     "traceback": [
      "ReferenceError: readUsers is not defined",
      "    at serveUsers (evalmachine.<anonymous>:2:5)",
      "    at evalmachine.<anonymous>:20:1",
      "    at ContextifyScript.Script.runInThisContext (vm.js:23:33)",
      "    at Object.runInThisContext (vm.js:95:38)",
      "    at run ([eval]:613:19)",
      "    at onRunRequest ([eval]:384:22)",
      "    at onMessage ([eval]:352:17)",
      "    at emitTwo (events.js:106:13)",
      "    at process.emit (events.js:194:7)",
      "    at process.nextTick (internal/child_process.js:766:12)"
     ]
    }
   ],
   "source": [
    "function serveUsers (config) {\n",
    "  readUsers(config.file, (err, users) => {\n",
    "    if (err) {\n",
    "      console.log(err);\n",
    "      return;\n",
    "    }\n",
    "    const http = require('http');\n",
    "    const server = http.createServer((req, res) => {\n",
    "      res.statusCode = 200;\n",
    "      res.setHeader('Content-Type', 'application/json');\n",
    "      res.end(JSON.stringify(users.users));\n",
    "    });\n",
    "    server.listen(config.port, config.hostname, () => {\n",
    "      console.log(`Server running at http://${config.hostname}:${config.port}`);\n",
    "    });\n",
    "  });\n",
    "}\n",
    "\n",
    "serveUsers({file: './seed/users.json', port: 8008, hostname: '127.0.0.1'});"
   ]
  },
  {
   "cell_type": "markdown",
   "metadata": {
    "slideshow": {
     "slide_type": "fragment"
    }
   },
   "source": [
    "If you are not using VS code, add\n",
    "```\n",
    "    \"start\": \"node ./index.js\",\n",
    "```\n",
    "to `scripts` of your package.json"
   ]
  },
  {
   "cell_type": "markdown",
   "metadata": {
    "slideshow": {
     "slide_type": "slide"
    }
   },
   "source": [
    "# And now for the real-life example\n",
    "* where we want to use some well maintained library\n",
    "* have database backens\n",
    "* have tests\n",
    "\n",
    "# we will use\n",
    "\n",
    "* expressjs as the web-server\n",
    "* pouchdb as the database\n",
    "* mocha testing framework"
   ]
  },
  {
   "cell_type": "markdown",
   "metadata": {
    "slideshow": {
     "slide_type": "subslide"
    }
   },
   "source": [
    "# First, lets factor out the read user\n",
    " ```\n",
    " mkdir utils\n",
    " touch utils/readusers.js\n",
    " ```"
   ]
  },
  {
   "cell_type": "markdown",
   "metadata": {
    "slideshow": {
     "slide_type": "subslide"
    }
   },
   "source": [
    " When readuser.js will look like this:\n",
    " const fs = require('fs');\n",
    "```\n",
    "function readUsers (file, cb) {\n",
    "  fs.readFile(file, 'utf8', (err, data) => {\n",
    "    if (err) {\n",
    "      return cb(err);\n",
    "    }\n",
    "    try {\n",
    "      const users = JSON.parse(data);\n",
    "      return cb(null, users);\n",
    "    } catch (exc) {\n",
    "      return cb(exc);\n",
    "    }\n",
    "  });\n",
    "}\n",
    "\n",
    "module.exports = readUsers;\n",
    "```\n",
    "You can do\n",
    "```\n",
    "const readUsers = require('./utils/readusers.js');\n",
    "```\n",
    "in your index.js"
   ]
  },
  {
   "cell_type": "markdown",
   "metadata": {
    "slideshow": {
     "slide_type": "subslide"
    }
   },
   "source": [
    "# Now lets add tests\n",
    "```\n",
    "mkdir -p tests/accept\n",
    "touch tests/accept/utils.js\n",
    "npm install mocha --save-dev\n",
    "```"
   ]
  },
  {
   "cell_type": "markdown",
   "metadata": {
    "slideshow": {
     "slide_type": "subslide"
    }
   },
   "source": [
    "# For VS Code Debugging\n",
    "```\n",
    "    {\n",
    "      \"name\": \"Run mocha\",\n",
    "      \"type\": \"node\",\n",
    "      \"request\": \"launch\",\n",
    "      \"program\": \"${workspaceRoot}/node_modules/mocha/bin/_mocha\",\n",
    "      \"stopOnEntry\": false,\n",
    "      \"args\": [\"tests/**/*.js\", \"--no-timeouts\"],\n",
    "      \"cwd\": \"${workspaceRoot}\",\n",
    "      \"runtimeExecutable\": null,\n",
    "      \"env\": { \"NODE_ENV\": \"testing\"}\n",
    "    },\n",
    "```"
   ]
  },
  {
   "cell_type": "markdown",
   "metadata": {
    "slideshow": {
     "slide_type": "subslide"
    }
   },
   "source": [
    "# First test\n",
    "\n",
    "```\n",
    "/* eslint-env mocha */\n",
    "\n",
    "const readUsers = require('../../utils/readusers.js');\n",
    "\n",
    "describe('Util function', function () {\n",
    "  it('readUsers should parse the seed list', function (done) {\n",
    "    readUsers('./seed/users.json', (err, res) => {\n",
    "      if (err) {\n",
    "        return done(err);\n",
    "      }\n",
    "      if (res.users.length !== 100) {\n",
    "        return done(Error('User json should have 100 users'));\n",
    "      }\n",
    "      done();\n",
    "    });\n",
    "  });\n",
    "});\n",
    "```\n"
   ]
  },
  {
   "cell_type": "markdown",
   "metadata": {
    "slideshow": {
     "slide_type": "subslide"
    }
   },
   "source": [
    "# Database\n",
    "\n",
    "```\n",
    "npm install pouchdb --save\n",
    "```\n",
    "\n",
    "You can read the api on https://pouchdb.com/api.html\n",
    "We will create a seeding util:\n",
    "```\n",
    "touch ./seed/seed.js\n",
    "```"
   ]
  },
  {
   "cell_type": "markdown",
   "metadata": {
    "slideshow": {
     "slide_type": "subslide"
    }
   },
   "source": [
    "# It supports promises! :) \n",
    "\n",
    "Instead of\n",
    "\n",
    "```\n",
    "db.post({\n",
    "  title: 'Ziggy Stardust'\n",
    "}, function (err, response) {\n",
    "  if (err) { return console.log(err); }\n",
    "});\n",
    "```\n",
    "You can\n",
    "```\n",
    "db.post({\n",
    "  title: 'Ziggy Stardust'\n",
    "}).then(function (response) {\n",
    "  // handle response\n",
    "}).catch(function (err) {\n",
    "  console.log(err);\n",
    "});\n",
    "```"
   ]
  },
  {
   "cell_type": "markdown",
   "metadata": {
    "slideshow": {
     "slide_type": "slide"
    }
   },
   "source": [
    "```\n",
    "function seed (dbname, cb) {\n",
    "  const oldDB = new PouchDB(dbname);\n",
    "  let newDB;\n",
    "\n",
    "  readUsers('./seed/users.json', (err, userData) => {\n",
    "    if (err) {\n",
    "      cb(err);\n",
    "    }\n",
    "    oldDB.destroy()\n",
    "      .then(() => {\n",
    "        newDB = new PouchDB(dbname);\n",
    "        const data = userData.users.map(u => {\n",
    "          u._id = u.username;\n",
    "          return u;\n",
    "        });\n",
    "        return newDB.bulkDocs(data);\n",
    "      }).then(function (result) {\n",
    "        console.log(result);\n",
    "        newDB.close(cb);\n",
    "      }).catch(function (err) {\n",
    "        console.log(err);\n",
    "        newDB.close(cb);\n",
    "      });\n",
    "  });\n",
    "}\n",
    "```"
   ]
  },
  {
   "cell_type": "markdown",
   "metadata": {
    "slideshow": {
     "slide_type": "slide"
    }
   },
   "source": [
    "# Lets switch to promises\n",
    "\n",
    "```\n",
    "function readUsers (file) {\n",
    "  return new Promise((resolve, reject) => {\n",
    "    fs.readFile(file, 'utf8', (err, data) => {\n",
    "      if (err) {\n",
    "        return reject(err);\n",
    "      }\n",
    "      try {\n",
    "        const users = JSON.parse(data);\n",
    "        return resolve(users);\n",
    "      } catch (exc) {\n",
    "        return reject(exc);\n",
    "      }\n",
    "    });\n",
    "  });\n",
    "}\n",
    "```"
   ]
  },
  {
   "cell_type": "markdown",
   "metadata": {
    "slideshow": {
     "slide_type": "slide"
    }
   },
   "source": [
    "# New seed\n",
    "```\n",
    "function seed (dbname) {\n",
    "  const oldDB = new PouchDB(dbname);\n",
    "  let newDB;\n",
    "  return oldDB.destroy()\n",
    "    .then(() => readUsers('./seed/users.json'))\n",
    "    .then(userData => {\n",
    "      newDB = new PouchDB(dbname);\n",
    "      const data = userData.users.map(u => {\n",
    "        u._id = u.username;\n",
    "        return u;\n",
    "      });\n",
    "      return newDB.bulkDocs(data);\n",
    "    }).then(result => console.log(result))\n",
    "    .catch(err => console.log(err))\n",
    "    .then(() => newDB.close());\n",
    "}\n",
    "```"
   ]
  },
  {
   "cell_type": "markdown",
   "metadata": {},
   "source": [
    "# Async and Await\n",
    "```\n",
    "\n",
    "```"
   ]
  }
 ],
 "metadata": {
  "celltoolbar": "Slideshow",
  "kernelspec": {
   "display_name": "Javascript (Node.js)",
   "language": "javascript",
   "name": "javascript"
  },
  "language_info": {
   "file_extension": ".js",
   "mimetype": "application/javascript",
   "name": "javascript",
   "version": "7.7.4"
  }
 },
 "nbformat": 4,
 "nbformat_minor": 2
}
