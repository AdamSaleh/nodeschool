{
 "cells": [
  {
   "cell_type": "markdown",
   "metadata": {},
   "source": [
    "This code snippet allows the identify() and speak() functions to be re-used against multiple context (me and you) objects, rather than needing a separate version of the function for each object. [1]\n",
    "\n",
    "[1] [from You don't know js](https://github.com/getify/You-Dont-Know-JS/blob/master/this%20%26%20object%20prototypes/ch1.md#why-this)"
   ]
  },
  {
   "cell_type": "code",
   "execution_count": 1,
   "metadata": {
    "collapsed": false
   },
   "outputs": [
    {
     "name": "stdout",
     "output_type": "stream",
     "text": [
      "Hello, I'm KYLE\n",
      "Hello, I'm READER\n"
     ]
    },
    {
     "data": {
      "text/plain": [
       "undefined"
      ]
     },
     "execution_count": 1,
     "metadata": {},
     "output_type": "execute_result"
    }
   ],
   "source": [
    "function identify() {\n",
    "    return this.name.toUpperCase();\n",
    "}\n",
    "\n",
    "function speak() {\n",
    "    var greeting = \"Hello, I'm \" + identify.call( this );\n",
    "    console.log( greeting );\n",
    "}\n",
    "\n",
    "var me = {\n",
    "    name: \"Kyle\"\n",
    "};\n",
    "\n",
    "var you = {\n",
    "    name: \"Reader\"\n",
    "};\n",
    "\n",
    "identify.call( me ); // KYLE\n",
    "identify.call( you ); // READER\n",
    "\n",
    "speak.call( me ); // Hello, I'm KYLE\n",
    "speak.call( you ); // Hello, I'm READER"
   ]
  },
  {
   "cell_type": "code",
   "execution_count": null,
   "metadata": {
    "collapsed": true
   },
   "outputs": [],
   "source": []
  }
 ],
 "metadata": {
  "kernelspec": {
   "display_name": "Javascript (Node.js)",
   "language": "javascript",
   "name": "javascript"
  },
  "language_info": {
   "file_extension": ".js",
   "mimetype": "application/javascript",
   "name": "javascript",
   "version": "6.6.0"
  }
 },
 "nbformat": 4,
 "nbformat_minor": 2
}
